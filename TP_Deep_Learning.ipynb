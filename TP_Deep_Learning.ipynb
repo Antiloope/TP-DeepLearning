{
  "nbformat": 4,
  "nbformat_minor": 0,
  "metadata": {
    "colab": {
      "provenance": []
    },
    "kernelspec": {
      "name": "python3",
      "display_name": "Python 3"
    },
    "language_info": {
      "name": "python"
    }
  },
  "cells": [
    {
      "cell_type": "markdown",
      "source": [
        "# Trabajo práctico - Deep Learning\n",
        "## Dipodatos 2022\n",
        "\n",
        "### Integrantes \n",
        "\n",
        "*   Carazo Fernando Diego\n",
        "*   Grasselli Natalia\n",
        "*   Ferrero Nicolas\n",
        "*   Pizarro Rodrigo\n",
        "\n"
      ],
      "metadata": {
        "id": "lX0kQmAkcrnD"
      }
    },
    {
      "cell_type": "code",
      "execution_count": null,
      "metadata": {
        "id": "ntDBLrPucjjl"
      },
      "outputs": [],
      "source": []
    }
  ]
}