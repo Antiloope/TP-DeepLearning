{
  "nbformat": 4,
  "nbformat_minor": 0,
  "metadata": {
    "colab": {
      "provenance": []
    },
    "kernelspec": {
      "name": "python3",
      "display_name": "Python 3"
    },
    "language_info": {
      "name": "python"
    }
  },
  "cells": [
    {
      "cell_type": "markdown",
      "source": [
        "# Trabajo práctico - Deep Learning\n",
        "## Dipodatos 2022\n",
        "\n",
        "### Integrantes \n",
        "\n",
        "*   Carazo Fernando Diego\n",
        "*   Grasselli Natalia\n",
        "*   Ferrero Nicolas\n",
        "*   Pizarro Rodrigo\n",
        "\n"
      ],
      "metadata": {
        "id": "lX0kQmAkcrnD"
      }
    },
    {
      "cell_type": "markdown",
      "source": [
        "## Parte 1 - Meli Challenge"
      ],
      "metadata": {
        "id": "IMyuPCSZgBhv"
      }
    },
    {
      "cell_type": "markdown",
      "source": [
        "### Cargamos el dataset en memoria"
      ],
      "metadata": {
        "id": "Yt31OciT3VmM"
      }
    },
    {
      "cell_type": "code",
      "source": [
        "from torch.utils.data import Dataset, DataLoader, IterableDataset\n",
        "\n",
        "class MeLiChallengeDataset(IterableDataset):\n",
        "    def __init__(self, path, transform=None):\n",
        "        self.dataset_path = path\n",
        "        self.transform = transform\n",
        "\n",
        "    def __iter__(self):\n",
        "        with gzip.open(self.dataset_path, \"rt\") as fh:\n",
        "            for l in fh:\n",
        "                data = json.loads(l)\n",
        "                item = {\n",
        "                    \"data\": data['title'],\n",
        "                    \"target\": data['category']\n",
        "                }\n",
        "                \n",
        "                if self.transform:\n",
        "                    yield self.transform(item)\n",
        "                else:\n",
        "                    yield item"
      ],
      "metadata": {
        "id": "NyHhBkgKwo1d"
      },
      "execution_count": 2,
      "outputs": []
    },
    {
      "cell_type": "code",
      "source": [
        "import gzip\n",
        "import json\n",
        "from tqdm.notebook import tqdm, trange\n",
        "\n",
        "train_dataset = MeLiChallengeDataset(\"./data/meli-challenge-2019/spanish.train.jsonl.gz\")\n",
        "train_loader = DataLoader(train_dataset, batch_size=128)\n",
        "validation_dataset = MeLiChallengeDataset(\"./data/meli-challenge-2019/spanish.validation.jsonl.gz\")\n",
        "validation_loader = DataLoader(validation_dataset, batch_size=128)\n",
        "\n",
        "dataiter = iter(train_loader)\n",
        "print(f\"Sample batch:\\n{dataiter.next()}\")"
      ],
      "metadata": {
        "colab": {
          "base_uri": "https://localhost:8080/"
        },
        "id": "8fbP-f33vnVv",
        "outputId": "84a288d9-5bc6-46bc-b04b-d38915e2352f"
      },
      "execution_count": 50,
      "outputs": [
        {
          "output_type": "stream",
          "name": "stdout",
          "text": [
            "Sample batch:\n",
            "{'data': ['Casita Muñecas Barbies Pintadas', 'Neceser Cromado Holográfico ', 'Funda Asiento A Medida D20 Chevrolet', 'Embrague Ford Focus One 1.8 8v Td (90cv) Desde 01-99', 'Bateria Panasonic Dmwbcf10 Lumix Dmc-fx60n Dmcfx60n Fx60n', 'Gurgel Br 800', 'Harman Kardon Hk 3700 2ch Network Receiver _h', 'Pack Netbook´s', 'Olla Essen Duo', 'Teclado Mini Bluetooth', 'Acordeón Weltmeister 80 Bajos Alemán', 'Impresora 3d Prusa I3 Plus Autolevel Lista P/usar ', '6 Puertos Usb Adaptador De Corriente General Cargador De Par', 'Andador Musical Love ', 'Brillo Labial Agatha Ruiz De La Prada Sabor Tutti Frutti', 'Tela Batista Estampada Ancho 1,50 M', 'Us Fdny N York Fire Dept - Bomberos- Engine 82 Patch Nuevo', 'Tablet 10 Pulgadas Gadmin', 'Prensa 80cm Donut Inflable Nadar Anillo Flotador Piscina Agu', 'Bluza De Dama Mas Quimono', 'Cámara Fotográfica Canon  Modelo Snappy  Automática 35mm', 'Botines Puma Classico Tt Jr - Talle : 38', 'Calefon Orbis A Botonera Poco Uso', 'Microsoft Office Home & Student 2016 - Suites', 'Teclado Organo Casio Ctk-4000 5 Octavas Sensitivo', 'Soutien Cocot Básico - Art. 5667', 'Gel Base Neutro Transparente 1 Kilo Uso Cosmetico Envios', 'Zapatos Abotinados Negros Oro Jazmin Chebar Nuevos! Talle 38', 'Bieleta Nakata Trasera Vento Golf V Passat Tiguan Caddy', 'Triciclo Infantil Caño Reforzado Asiento Corredizo Art 1002', 'Calavera De Impresión De Las Mujeres Calcetines Adolescentes', 'Almohadon Estilo Nordico Pelo Semilargo Piel Sintetica', 'Cargador De Pilas Usb + 2 Aa 1000 Mah  + 2 Aaa 400 Mah', 'Extensor De 75mm Para Crique De 1/2 Pulgada Bremen', 'Cubo Octagonal 3x3', 'Lampara Colgante De Madera Maciza Led', 'Farol Auxiliar Cromado Custom Chopper Bobber Drag Por Par', 'Sublimadora De Tazas Rectas Y Conicas', 'Botines Nike Legendx 7 Academy 10r Tf Papi Aq2218-607', 'Momax 13200mah Energía Banco , Batería Externa Con Dual Pu', 'Campera Topper Niño Fz Tech Flecce Grafito', 'K10 Bateria Lge Lg Original Fabrica 2800mah 55-2 Bl-46g1f K1', 'Resorte A Gas Bmw 735 Capot 86/94 Gaspring', 'Vedetinas Bombachas Colaless Varios Modelos', 'Maquina De Corte Recta Dapet 8 Pulgadas Uso Industrial', '1er Triciclo Con Barra Varon Rondi ... En Magimundo !!!!', 'Sillon De 3 Cuerpos Color Mostaza. Envio A Cordoba Incluido', 'Par De Handies Evadin Funcionando - Muy Buen Estado', 'Cupcake Bears Mini Osito Reversible Con Aroma', 'Sgm1 Focal Es165 Kx2 Power Componente 6 1/2  Rep Oficial', 'Monopod Baston Selfies Celulares Con Control Remoto', 'Mesa Ratona Con 4 Cajones .', 'Antena Tda Tv Digital Hd Interior Exterior ', 'Insumos De Pc , Fuentes De Pc , Memorias Ram,prosesador , ', 'Impresora Multifuncion Officejet Pro 8620 All In One Inyect', 'Te De Naranja, Canela Y Anís - 20 Saquitos X 4 Unidades', 'Juego Para Ps4', 'Fuente Pc Gamer Atx Gigabyte 500w 500 80 Plus Bronze 12ct', 'Guardaplas Para Fiat Tipo', 'Bomba De Agua   Vmg Renault Fluence 2.0 L 16v - M4r 2010-201', 'Pijama Carters Towel Monster Talle 9 Meses', 'Preamplificador Y Potencia Phase Linear', 'Lote De Juegos De Mesa Didácticos', 'Campana De Cocina Tst Puelo 75-a-3v  230-75 Nuevo           ', 'Contractor Electrodos 4 Canales Descontracturante Demik', 'Handy Yaesu Ft 416 Usado En Buen Estado', 'Cable Coaxil Rg6 Blanco', \"Gamulan De Los 80'\", 'Philco Csip01 Cámara Ip Seguridad Wifi 720p Wide Angle', 'Termotanque 50 Litros A Gas', 'Cerámica Lourdes Negro Plus 35x35   1ra Calidad', '925 Libra Esterlina Plata Anillo Jure 925 Libra Esterlina', 'Mesa De Pino ', 'Guitarra Explorer Esp Ltd Ex-400 Emg Grover 2008', 'Catalejo Telescopio Terrestre Hokenn 15-45x50 Con Zoom ', 'Netbook Acer Aspire 1410 Teclado Y Bateria Nuevos   Munro  ', 'Disfraz Para Niño Caballero Medieval - Halloween', 'Telescopio Astro Jr', 'Mochila Espalda Grande Princesas 30 X 45 Cm Playking', 'Clavos De Acero. 3,3 X 70 Mm. Caja 100 Unidades', 'Bandolera Super Comoda Para Mujer ', 'Ps3 Negociable', 'Sabanas Pierre Balmain Galant 144 Hilos 1 1/2', 'Cartera Louis Vuitton Original Impecable Soy De C.a.b.a. ', 'Portátil Solar Energía Linterna Eléctrica De Emergencia Mano', 'Calco Volkswagen Suran, Ploteo Mod Future', 'Colchon Suavestar De Resortes Modelo 23cm Alto 1 Plaza', 'Zapatos De Suela Todo Cuero Gravado Hombre Puerto Blue', 'Mecha Acero Rapido Ezeta   2 Mm Ind Argentina Distribuidor O', 'Lote 10 Armazones Lentes Receta Varios Modelos Colores', 'Camperon Original Bross', 'Zeblaze Vibe 3 Pro Smartwatch Corazón Tarifa Monitor Rojo', 'Sillolin Infantil Para Comer Tapizados', 'Monocomando Lavatorio  Alto Hydros Calyx Piazza', 'Bernardo Monteagudo: Escritos Politicos', 'Juego De Cojinetes Bancadas Ika 6 Cil Marca Johnson En Std', 'Lote 36 Perchas Alambre Forrado', 'Caja De Herramientas Robust 22.5 .excelente Estado', 'Sombra Para Parpados Automatica D06 Y M03', 'Baul Mesa Ratona Caja Cajon Organizador Y Mueble De Zinc Pce', 'Ventilador Tivoli De Pie 26´ Industrial Potencia 180w', 'Lavavajilla Home Dw-ch-45  45x60x86  Buen Estado Funcionando', 'Dc Comics Trading Card 1991 #50 Firestorm Sheldortoys', 'Termometro Digital Lcd Bipper Niños Adultos ', 'Transmisor Elenos 5kw', 'Perfume Dama Justin Bieber Someday Edp 50ml Oferta', 'Dermo Balance Descongestiva Reparadora Lidherma Palermo', 'Para Austar Ax -618gl 1.9inch Metal Rueda Cubo Lamer Set4pcs', 'Depiladora Laser Lumea Advanced Philips', 'Caja De Herramientas Ford Cantilever Removible Cierres Metal', 'Sombra De Ojos 240 Night Maybelline Expert Wear Mono Eyes', 'Marcador De Tiza Securit Biselada (2-6mm) Rosa ', 'Modem Tp-link Adsl2', 'Amortiguador Trasero Volkswagen Amarok 09/18', 'Set Pinceles Maquillaje En Tubo Estuche Deluxe 12 Pcs ', 'Ojotas Jordan Retro 7 Original', 'Horno Eléctrico Domec Hei 4c De Empotrar', 'Ruedas Syncros Rodado 28', 'Porta Notebook Bolso Para Macbook 13 ', 'Griferia Hidromet Fun Lavatorio Baño Cromo 3031', 'Juego De Sábanas Queen 1,60 X 2,00 X 0,30', 'Play Station  2 ', 'Pc De Escritorio Intel, Hdd 500 Gb', 'Kit Escobillas Orlan Rober Advance Mercedes Benz 280 75-89', '5 Dotting  1 Anillo Porta Esmalte  17 Potes Decoracion Varia', 'Sillita De Comer Fisher Price', 'Crema Mouse Shimer Pink Para El Cuerpo Coco', 'Colchon Inflable Dos Plazas Camping'], 'target': ['DOLLHOUSES', 'TOILETRY_BAGS', 'CAR_SEAT_COVERS', 'AUTOMOTIVE_CLUTCH_KITS', 'CAMERA_BATTERIES', 'CLASSIC_CARS', 'AV_RECEIVERS', 'POWER_GRINDERS', 'KITCHEN_POTS', 'PC_KEYBOARDS', 'ACCORDIONS', '3D_PRINTERS', 'MOBILE_DEVICE_CHARGERS', 'BABY_WALKERS', 'LIP_GLOSSES', 'FABRICS', 'CLOTHING_PATCHES', 'TABLETS', 'POOL_INFLATABLES', 'BLOUSES', 'ANALOG_CAMERAS', 'FOOTBALL_SHOES', 'WATER_HEATERS', 'OFFICE_SOFTWARE', 'MUSICAL_KEYBOARDS', 'BRAS', 'BODY_SKIN_CARE_PRODUCTS', 'LOAFERS_AND_OXFORDS', 'SWAY_BAR_LINKS', 'KIDS_TRICYCLES', 'SOCKS', 'CUSHIONS', 'BATTERY_CHARGERS', 'WRENCHES', 'PUZZLE_CUBES', 'CEILING_LIGHTS', 'MOTORCYCLE_HEADLIGHTS', 'SCREEN_PRINTERS', 'FOOTBALL_SHOES', 'PORTABLE_CELLPHONE_CHARGERS', 'FOOTBALL_JACKETS', 'CELLPHONE_BATTERIES', 'GAS_LIFT_SUPPORTS', 'PANTIES', 'SEWING_MACHINES', 'KIDS_TRICYCLES', 'SOFAS', 'WALKIE_TALKIES', 'DOLLS', 'VEHICLE_SPEAKERS', 'CAMERA_MONOPODS', 'COFFEE_TABLES', 'TV_ANTENNAS', 'RAM_MEMORY_MODULES', 'PRINTERS', 'TEA', 'VIDEO_GAMES', 'DESKTOP_COMPUTER_POWER_SUPPLIES', 'AUTOMOBILE_FENDER_LINERS', 'AUTOMOTIVE_WATER_PUMPS', 'PAJAMAS', 'AUDIO_AMPLIFIERS', 'BOARD_GAMES', 'KITCHEN_RANGE_HOODS', 'ELECTRONIC_MUSCLE_STIMULATORS', 'WALKIE_TALKIES', 'NETWORK_CABLES', 'JACKETS_AND_COATS', 'SURVEILLANCE_CAMERAS', 'STORAGE_WATER_HEATERS', 'CERAMIC_TILES', 'RINGS', 'DINING_TABLES', 'ELECTRIC_GUITARS', 'TELESCOPES', 'NETBOOKS', 'COSTUMES', 'TELESCOPES', 'BACKPACKS', 'METAL_NAILS', 'HANDBAGS', 'GAME_CONSOLES', 'BED_SHEETS', 'HANDBAGS', 'AM_FM_RADIOS', 'VEHICLE_STICKERS', 'MATTRESSES', 'LOAFERS_AND_OXFORDS', 'DRILL_BITS', 'GLASSES_FRAMES', 'FOOTBALL_JACKETS', 'SMARTWATCHES', 'BABY_HIGH_CHAIRS', 'BATHROOM_FAUCETS', 'BOOKS', 'ENGINE_BEARINGS', 'CLOTHES_HANGERS', 'TOOL_BOXES', 'EYESHADOWS', 'CHESTS', 'FANS', 'DISHWASHERS', 'TRADING_CARD_GAMES', 'THERMOMETERS', 'AM_FM_RADIOS', 'PERFUMES', 'FACIAL_SKIN_CARE_PRODUCTS', 'PUZZLE_CUBES', 'PERMANENT_EPILATORS', 'TOOL_BOXES', 'EYESHADOWS', 'MARKERS_AND_HIGHLIGHTERS', 'MODEMS', 'AUTOMOTIVE_SHOCK_ABSORBERS', 'MAKEUP_BRUSHES', 'SANDALS_AND_FLIP_FLOPS', 'OVENS', 'BICYCLE_WHEELS', 'LAPTOP_BRIEFCASES', 'BATHROOM_FAUCETS', 'BED_SHEETS', 'GAME_CONSOLES', 'DESKTOP_COMPUTERS', 'WINDSHIELD_WIPERS', 'NAIL_ART_BRUSHES', 'BABY_HIGH_CHAIRS', 'BODY_SKIN_CARE_PRODUCTS', 'AIR_MATTRESSES']}\n"
          ]
        }
      ]
    },
    {
      "cell_type": "markdown",
      "source": [
        "#### Crear modelo"
      ],
      "metadata": {
        "id": "a9rSZZMADRhJ"
      }
    },
    {
      "cell_type": "markdown",
      "source": [
        "#### Ejecutar el modelo usando MLFlow"
      ],
      "metadata": {
        "id": "YKjjOwLrDZae"
      }
    },
    {
      "cell_type": "markdown",
      "source": [
        "## Parte 2 - Transformers / Redes recurrentes"
      ],
      "metadata": {
        "id": "rk312oyjgGMk"
      }
    },
    {
      "cell_type": "code",
      "source": [],
      "metadata": {
        "id": "34OeeOrdgSC5"
      },
      "execution_count": null,
      "outputs": []
    }
  ]
}